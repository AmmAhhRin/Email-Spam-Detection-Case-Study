{
  "cells": [
    {
      "cell_type": "markdown",
      "source": [
        "# Data Acquisition + Preprocessing"
      ],
      "metadata": {
        "id": "iseoX_6tMzqe"
      }
    },
    {
      "cell_type": "code",
      "execution_count": null,
      "metadata": {
        "id": "lpgX58MZ_R2u"
      },
      "outputs": [],
      "source": [
        "# Import libraries\n",
        "import numpy as np\n",
        "import pandas as pd\n",
        "import nltk\n",
        "from nltk.corpus import stopwords\n",
        "from sklearn.feature_extraction.text import CountVectorizer\n",
        "from sklearn import svm\n",
        "from sklearn.model_selection import train_test_split\n",
        "import string\n"
      ]
    },
    {
      "cell_type": "code",
      "execution_count": null,
      "metadata": {
        "colab": {
          "base_uri": "https://localhost:8080/"
        },
        "id": "nWMbH5LEAXBP",
        "outputId": "b1bba4ed-00f3-448b-da0a-4ed6eeaa6729"
      },
      "outputs": [
        {
          "output_type": "stream",
          "name": "stdout",
          "text": [
            "                                                text  spam\n",
            "0  Subject: naturally irresistible your corporate...     1\n",
            "1  Subject: the stock trading gunslinger  fanny i...     1\n",
            "2  Subject: unbelievable new homes made easy  im ...     1\n",
            "3  Subject: 4 color printing special  request add...     1\n",
            "4  Subject: do not have money , get software cds ...     1\n",
            "5  Subject: great nnews  hello , welcome to medzo...     1\n",
            "6  Subject: here ' s a hot play in motion  homela...     1\n",
            "7  Subject: save your money buy getting this thin...     1\n",
            "8  Subject: undeliverable : home based business f...     1\n",
            "9  Subject: save your money buy getting this thin...     1\n"
          ]
        },
        {
          "output_type": "execute_result",
          "data": {
            "text/plain": [
              "Index(['text', 'spam'], dtype='object')"
            ]
          },
          "metadata": {},
          "execution_count": 2
        }
      ],
      "source": [
        "# Load the dataset\n",
        "dataset = pd.read_csv('https://raw.githubusercontent.com/OmkarPathak/Playing-with-datasets/master/Email%20Spam%20Filtering/emails.csv')\n",
        "\n",
        "print(dataset.head(10))\n",
        "dataset.columns\n"
      ]
    },
    {
      "cell_type": "code",
      "execution_count": null,
      "metadata": {
        "colab": {
          "base_uri": "https://localhost:8080/"
        },
        "id": "ubL0CFc-AgZG",
        "outputId": "c2688f3c-0b09-45d7-c714-e106b980b599"
      },
      "outputs": [
        {
          "output_type": "execute_result",
          "data": {
            "text/plain": [
              "(5728, 2)"
            ]
          },
          "metadata": {},
          "execution_count": 3
        }
      ],
      "source": [
        "# Print the shape (#rows & #columns)\n",
        "dataset.shape"
      ]
    },
    {
      "cell_type": "code",
      "execution_count": null,
      "metadata": {
        "colab": {
          "base_uri": "https://localhost:8080/"
        },
        "id": "LL2q1Pt8Cp8I",
        "outputId": "9a1e7ae0-044e-4a86-9bb1-bd964501356d"
      },
      "outputs": [
        {
          "output_type": "execute_result",
          "data": {
            "text/plain": [
              "Index(['text', 'spam'], dtype='object')"
            ]
          },
          "metadata": {},
          "execution_count": 4
        }
      ],
      "source": [
        "# Get the columns names\n",
        "dataset.columns"
      ]
    },
    {
      "cell_type": "code",
      "execution_count": null,
      "metadata": {
        "colab": {
          "base_uri": "https://localhost:8080/"
        },
        "id": "pfONLZ8wCr_X",
        "outputId": "d7d3d94c-b999-4a2a-86ed-b1ad52d7e179"
      },
      "outputs": [
        {
          "output_type": "execute_result",
          "data": {
            "text/plain": [
              "(5695, 2)"
            ]
          },
          "metadata": {},
          "execution_count": 5
        }
      ],
      "source": [
        "# Check for duplicates and remove them\n",
        "dataset.drop_duplicates(inplace = True)\n",
        "\n",
        "#show new shape (after remove duplicates)\n",
        "dataset.shape"
      ]
    },
    {
      "cell_type": "markdown",
      "source": [
        "It remove 33 rows of duplicates email"
      ],
      "metadata": {
        "id": "GsvHTld9OkxM"
      }
    },
    {
      "cell_type": "code",
      "execution_count": null,
      "metadata": {
        "colab": {
          "base_uri": "https://localhost:8080/"
        },
        "id": "fJPMohiqCtct",
        "outputId": "8452ee6b-4016-4d56-ffc7-0efc48af5825"
      },
      "outputs": [
        {
          "output_type": "execute_result",
          "data": {
            "text/plain": [
              "text    0\n",
              "spam    0\n",
              "dtype: int64"
            ]
          },
          "metadata": {},
          "execution_count": 6
        }
      ],
      "source": [
        "# Show the # of missing data (NAN, NaN, na) for each column\n",
        "dataset.isnull().sum()\n"
      ]
    },
    {
      "cell_type": "code",
      "execution_count": null,
      "metadata": {
        "colab": {
          "base_uri": "https://localhost:8080/"
        },
        "id": "3Y_rFgQzCvSl",
        "outputId": "1eac9eb4-b8db-48c3-fc8e-365572457310"
      },
      "outputs": [
        {
          "output_type": "stream",
          "name": "stderr",
          "text": [
            "[nltk_data] Downloading package stopwords to /root/nltk_data...\n",
            "[nltk_data]   Unzipping corpora/stopwords.zip.\n"
          ]
        },
        {
          "output_type": "execute_result",
          "data": {
            "text/plain": [
              "True"
            ]
          },
          "metadata": {},
          "execution_count": 7
        }
      ],
      "source": [
        "# Download the stopwords package\n",
        "nltk.download('stopwords')"
      ]
    },
    {
      "cell_type": "code",
      "execution_count": null,
      "metadata": {
        "id": "k6bCVAhvCwtA"
      },
      "outputs": [],
      "source": [
        "def processText(text):\n",
        "\n",
        "  #1 Remove the punctuation\n",
        "  nopunc = [char for char in text if char not in string.punctuation]\n",
        "  nopunc = ''.join(nopunc)\n",
        "\n",
        "  #2 Remove the stopwords (useless words)\n",
        "  cleanWord = [word for word in nopunc.split() if word.lower() not in stopwords.words('english')]\n",
        "\n",
        "\n",
        "  #3 Return a list of clean text words\n",
        "  return cleanWord\n"
      ]
    },
    {
      "cell_type": "code",
      "execution_count": null,
      "metadata": {
        "colab": {
          "base_uri": "https://localhost:8080/"
        },
        "id": "ZM9PzLZ6CyoP",
        "outputId": "853e8bac-e9ce-4ca2-a2c4-42b796338410"
      },
      "outputs": [
        {
          "output_type": "execute_result",
          "data": {
            "text/plain": [
              "0    [Subject, naturally, irresistible, corporate, ...\n",
              "1    [Subject, stock, trading, gunslinger, fanny, m...\n",
              "2    [Subject, unbelievable, new, homes, made, easy...\n",
              "3    [Subject, 4, color, printing, special, request...\n",
              "4    [Subject, money, get, software, cds, software,...\n",
              "Name: text, dtype: object"
            ]
          },
          "metadata": {},
          "execution_count": 9
        }
      ],
      "source": [
        "# Show the tokenization (a list of tokens also called lemmas)\n",
        "dataset['text'].head(5).apply(processText)"
      ]
    },
    {
      "cell_type": "code",
      "execution_count": null,
      "metadata": {
        "id": "kCGlsG1HC2nH"
      },
      "outputs": [],
      "source": [
        "# Convert a collection of text to a matrix of tokens\n",
        "from sklearn.feature_extraction.text import CountVectorizer\n",
        "messageBow = CountVectorizer(analyzer=processText).fit_transform(dataset['text'])\n"
      ]
    },
    {
      "cell_type": "code",
      "source": [
        "x = messageBow\n",
        "y = dataset['spam']"
      ],
      "metadata": {
        "id": "imkw2dZXKB0t"
      },
      "execution_count": null,
      "outputs": []
    },
    {
      "cell_type": "code",
      "execution_count": null,
      "metadata": {
        "id": "4F26sYOsC4sl"
      },
      "outputs": [],
      "source": [
        "# Split the data into training & testing\n",
        "from sklearn.model_selection import train_test_split\n",
        "xTrain, xTest, yTrain, yTest = train_test_split(x, y, test_size=0.20, random_state=1)"
      ]
    },
    {
      "cell_type": "markdown",
      "source": [
        "# Naive Bayes\n",
        "\n"
      ],
      "metadata": {
        "id": "QN-VBQHrMngs"
      }
    },
    {
      "cell_type": "code",
      "source": [
        "# Create and train the Naive Bayes Classifier\n",
        "from sklearn.naive_bayes import MultinomialNB\n",
        "classifier = MultinomialNB().fit(xTrain, yTrain)"
      ],
      "metadata": {
        "id": "x2FSWzDdNyFq"
      },
      "execution_count": null,
      "outputs": []
    },
    {
      "cell_type": "code",
      "source": [
        "# Print the predictions\n",
        "predNB = classifier.predict(xTest)\n",
        "print(predNB)\n",
        "\n",
        "print(yTest.values)\n"
      ],
      "metadata": {
        "colab": {
          "base_uri": "https://localhost:8080/"
        },
        "id": "iIb6qUZLN0WV",
        "outputId": "8481c98f-1390-4b4f-d0d2-dc929d37506f"
      },
      "execution_count": null,
      "outputs": [
        {
          "output_type": "stream",
          "name": "stdout",
          "text": [
            "[0 0 0 ... 1 1 0]\n",
            "[0 0 0 ... 1 1 0]\n"
          ]
        }
      ]
    },
    {
      "cell_type": "code",
      "source": [
        "data = {'Predicted Values': predNB, 'Actual Values': yTest.values}\n",
        "df = pd.DataFrame(data)\n",
        "print(df)"
      ],
      "metadata": {
        "colab": {
          "base_uri": "https://localhost:8080/"
        },
        "id": "N4I5rciAN2Yd",
        "outputId": "8cefef6a-f3d6-4672-8b96-a75ef7f8c9b0"
      },
      "execution_count": null,
      "outputs": [
        {
          "output_type": "stream",
          "name": "stdout",
          "text": [
            "      Predicted Values  Actual Values\n",
            "0                    0              0\n",
            "1                    0              0\n",
            "2                    0              0\n",
            "3                    0              0\n",
            "4                    1              1\n",
            "...                ...            ...\n",
            "1134                 1              1\n",
            "1135                 0              0\n",
            "1136                 1              1\n",
            "1137                 1              1\n",
            "1138                 0              0\n",
            "\n",
            "[1139 rows x 2 columns]\n"
          ]
        }
      ]
    },
    {
      "cell_type": "code",
      "source": [
        "# Evaluate the model\n",
        "from sklearn.metrics import accuracy_score\n",
        "predNB = classifier.predict(xTest)\n",
        "\n",
        "print('Naive Bayes Accuracy: ', accuracy_score(yTest  , predNB))"
      ],
      "metadata": {
        "colab": {
          "base_uri": "https://localhost:8080/"
        },
        "id": "PtpfqYVIN3Cq",
        "outputId": "3b1a770d-3ece-4223-e703-8d105bde1a43"
      },
      "execution_count": null,
      "outputs": [
        {
          "output_type": "stream",
          "name": "stdout",
          "text": [
            "Naive Bayes Accuracy:  0.9912203687445127\n"
          ]
        }
      ]
    },
    {
      "cell_type": "markdown",
      "source": [
        "# SVM\n"
      ],
      "metadata": {
        "id": "PIaUrgnVMlhA"
      }
    },
    {
      "cell_type": "code",
      "source": [
        "from sklearn.svm import SVC\n",
        "model = SVC(kernel = 'rbf', random_state=0)\n",
        "model.fit(xTrain, yTrain)"
      ],
      "metadata": {
        "colab": {
          "base_uri": "https://localhost:8080/"
        },
        "id": "qK9P9xbjE1Gz",
        "outputId": "ee183af6-7f00-4693-cbb2-0acb09e78c19"
      },
      "execution_count": null,
      "outputs": [
        {
          "output_type": "execute_result",
          "data": {
            "text/plain": [
              "SVC(random_state=0)"
            ]
          },
          "metadata": {},
          "execution_count": 17
        }
      ]
    },
    {
      "cell_type": "code",
      "source": [
        "predSVC = model.predict(xTest)\n",
        "print(predSVC)\n",
        "\n",
        "print(yTest.values)"
      ],
      "metadata": {
        "colab": {
          "base_uri": "https://localhost:8080/"
        },
        "id": "1GqeQD2cKyUy",
        "outputId": "12b31b1a-6624-44e2-b92a-c499ad2d395c"
      },
      "execution_count": null,
      "outputs": [
        {
          "output_type": "stream",
          "name": "stdout",
          "text": [
            "[0 0 0 ... 1 1 0]\n",
            "[0 0 0 ... 1 1 0]\n"
          ]
        }
      ]
    },
    {
      "cell_type": "code",
      "source": [
        "data = {'Predicted Values': predSVC, 'Actual Values': yTest.values}\n",
        "df = pd.DataFrame(data)\n",
        "print(df)"
      ],
      "metadata": {
        "colab": {
          "base_uri": "https://localhost:8080/"
        },
        "id": "zGETfj-PK_lR",
        "outputId": "b88b4e94-0748-431e-8c9d-0f2fe52f8165"
      },
      "execution_count": null,
      "outputs": [
        {
          "output_type": "stream",
          "name": "stdout",
          "text": [
            "      Predicted Values  Actual Values\n",
            "0                    0              0\n",
            "1                    0              0\n",
            "2                    0              0\n",
            "3                    0              0\n",
            "4                    1              1\n",
            "...                ...            ...\n",
            "1134                 1              1\n",
            "1135                 0              0\n",
            "1136                 1              1\n",
            "1137                 1              1\n",
            "1138                 0              0\n",
            "\n",
            "[1139 rows x 2 columns]\n"
          ]
        }
      ]
    },
    {
      "cell_type": "code",
      "source": [
        "from sklearn.metrics import accuracy_score\n",
        "predSVC = model.predict(xTest)\n",
        "\n",
        "\n",
        "print('SVC Accuracy: ', accuracy_score(yTest  , predSVC))"
      ],
      "metadata": {
        "colab": {
          "base_uri": "https://localhost:8080/"
        },
        "id": "MbWzb-RJLKqi",
        "outputId": "34bd112d-8eff-4cfb-960f-1a9711c61f5b"
      },
      "execution_count": null,
      "outputs": [
        {
          "output_type": "stream",
          "name": "stdout",
          "text": [
            "SVC Accuracy:  0.971027216856892\n"
          ]
        }
      ]
    },
    {
      "cell_type": "code",
      "source": [
        "compare = {'Predicted Values SVC': predSVC, 'Predicted Values NB': predNB, 'Actual Values': yTest.values}\n",
        "df1 = pd.DataFrame(compare)\n",
        "print(df1)"
      ],
      "metadata": {
        "colab": {
          "base_uri": "https://localhost:8080/"
        },
        "id": "36cmgi8D731D",
        "outputId": "343132ab-18f1-47b9-fc6e-f8b3805dd3a8"
      },
      "execution_count": null,
      "outputs": [
        {
          "output_type": "stream",
          "name": "stdout",
          "text": [
            "      Predicted Values SVC  Predicted Values NB  Actual Values\n",
            "0                        0                    0              0\n",
            "1                        0                    0              0\n",
            "2                        0                    0              0\n",
            "3                        0                    0              0\n",
            "4                        1                    1              1\n",
            "...                    ...                  ...            ...\n",
            "1134                     1                    1              1\n",
            "1135                     0                    0              0\n",
            "1136                     1                    1              1\n",
            "1137                     1                    1              1\n",
            "1138                     0                    0              0\n",
            "\n",
            "[1139 rows x 3 columns]\n"
          ]
        }
      ]
    }
  ],
  "metadata": {
    "colab": {
      "provenance": [],
      "toc_visible": true
    },
    "kernelspec": {
      "display_name": "Python 3",
      "name": "python3"
    },
    "language_info": {
      "name": "python"
    }
  },
  "nbformat": 4,
  "nbformat_minor": 0
}